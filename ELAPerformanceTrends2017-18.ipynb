{
 "cells": [
  {
   "cell_type": "code",
   "execution_count": 17,
   "metadata": {},
   "outputs": [
    {
     "data": {
      "text/html": [
       "<div>\n",
       "<style scoped>\n",
       "    .dataframe tbody tr th:only-of-type {\n",
       "        vertical-align: middle;\n",
       "    }\n",
       "\n",
       "    .dataframe tbody tr th {\n",
       "        vertical-align: top;\n",
       "    }\n",
       "\n",
       "    .dataframe thead th {\n",
       "        text-align: right;\n",
       "    }\n",
       "</style>\n",
       "<table border=\"1\" class=\"dataframe\">\n",
       "  <thead>\n",
       "    <tr style=\"text-align: right;\">\n",
       "      <th></th>\n",
       "      <th>CountyCode</th>\n",
       "      <th>CountyName</th>\n",
       "      <th>DistrictCode</th>\n",
       "      <th>DistrictName</th>\n",
       "      <th>SchoolCode</th>\n",
       "      <th>SchoolName</th>\n",
       "      <th>Grade_Subject</th>\n",
       "      <th>Subject</th>\n",
       "      <th>MetExcExpPerc</th>\n",
       "      <th>Year</th>\n",
       "    </tr>\n",
       "  </thead>\n",
       "  <tbody>\n",
       "    <tr>\n",
       "      <th>0</th>\n",
       "      <td>1</td>\n",
       "      <td>ATLANTIC</td>\n",
       "      <td>10</td>\n",
       "      <td>ABSECON CITY</td>\n",
       "      <td>50</td>\n",
       "      <td>EMMA C ATTALES</td>\n",
       "      <td>Grade 5</td>\n",
       "      <td>LAL</td>\n",
       "      <td>47</td>\n",
       "      <td>2017-18</td>\n",
       "    </tr>\n",
       "    <tr>\n",
       "      <th>1</th>\n",
       "      <td>1</td>\n",
       "      <td>ATLANTIC</td>\n",
       "      <td>10</td>\n",
       "      <td>ABSECON CITY</td>\n",
       "      <td>50</td>\n",
       "      <td>EMMA C ATTALES</td>\n",
       "      <td>Grade 6</td>\n",
       "      <td>LAL</td>\n",
       "      <td>59</td>\n",
       "      <td>2017-18</td>\n",
       "    </tr>\n",
       "    <tr>\n",
       "      <th>2</th>\n",
       "      <td>1</td>\n",
       "      <td>ATLANTIC</td>\n",
       "      <td>10</td>\n",
       "      <td>ABSECON CITY</td>\n",
       "      <td>50</td>\n",
       "      <td>EMMA C ATTALES</td>\n",
       "      <td>Grade 7</td>\n",
       "      <td>LAL</td>\n",
       "      <td>64</td>\n",
       "      <td>2017-18</td>\n",
       "    </tr>\n",
       "    <tr>\n",
       "      <th>3</th>\n",
       "      <td>1</td>\n",
       "      <td>ATLANTIC</td>\n",
       "      <td>10</td>\n",
       "      <td>ABSECON CITY</td>\n",
       "      <td>50</td>\n",
       "      <td>EMMA C ATTALES</td>\n",
       "      <td>Grade 8</td>\n",
       "      <td>LAL</td>\n",
       "      <td>57</td>\n",
       "      <td>2017-18</td>\n",
       "    </tr>\n",
       "    <tr>\n",
       "      <th>4</th>\n",
       "      <td>1</td>\n",
       "      <td>ATLANTIC</td>\n",
       "      <td>10</td>\n",
       "      <td>ABSECON CITY</td>\n",
       "      <td>60</td>\n",
       "      <td>H ASHTON MARSH</td>\n",
       "      <td>Grade 3</td>\n",
       "      <td>LAL</td>\n",
       "      <td>44</td>\n",
       "      <td>2017-18</td>\n",
       "    </tr>\n",
       "    <tr>\n",
       "      <th>5</th>\n",
       "      <td>1</td>\n",
       "      <td>ATLANTIC</td>\n",
       "      <td>10</td>\n",
       "      <td>ABSECON CITY</td>\n",
       "      <td>60</td>\n",
       "      <td>H ASHTON MARSH</td>\n",
       "      <td>Grade 4</td>\n",
       "      <td>LAL</td>\n",
       "      <td>54</td>\n",
       "      <td>2017-18</td>\n",
       "    </tr>\n",
       "    <tr>\n",
       "      <th>6</th>\n",
       "      <td>1</td>\n",
       "      <td>ATLANTIC</td>\n",
       "      <td>110</td>\n",
       "      <td>ATLANTIC CITY</td>\n",
       "      <td>10</td>\n",
       "      <td>ATLANTIC CITY HIGH SCHOOL</td>\n",
       "      <td>Grade 9</td>\n",
       "      <td>LAL</td>\n",
       "      <td>27</td>\n",
       "      <td>2017-18</td>\n",
       "    </tr>\n",
       "    <tr>\n",
       "      <th>7</th>\n",
       "      <td>1</td>\n",
       "      <td>ATLANTIC</td>\n",
       "      <td>110</td>\n",
       "      <td>ATLANTIC CITY</td>\n",
       "      <td>10</td>\n",
       "      <td>ATLANTIC CITY HIGH SCHOOL</td>\n",
       "      <td>Grade 10</td>\n",
       "      <td>LAL</td>\n",
       "      <td>25</td>\n",
       "      <td>2017-18</td>\n",
       "    </tr>\n",
       "    <tr>\n",
       "      <th>8</th>\n",
       "      <td>1</td>\n",
       "      <td>ATLANTIC</td>\n",
       "      <td>110</td>\n",
       "      <td>ATLANTIC CITY</td>\n",
       "      <td>10</td>\n",
       "      <td>ATLANTIC CITY HIGH SCHOOL</td>\n",
       "      <td>Grade 11</td>\n",
       "      <td>LAL</td>\n",
       "      <td>19</td>\n",
       "      <td>2017-18</td>\n",
       "    </tr>\n",
       "    <tr>\n",
       "      <th>9</th>\n",
       "      <td>1</td>\n",
       "      <td>ATLANTIC</td>\n",
       "      <td>110</td>\n",
       "      <td>ATLANTIC CITY</td>\n",
       "      <td>30</td>\n",
       "      <td>SOVEREIGN AVENUE SCHOOL</td>\n",
       "      <td>Grade 3</td>\n",
       "      <td>LAL</td>\n",
       "      <td>40</td>\n",
       "      <td>2017-18</td>\n",
       "    </tr>\n",
       "  </tbody>\n",
       "</table>\n",
       "</div>"
      ],
      "text/plain": [
       "   CountyCode CountyName  DistrictCode   DistrictName  SchoolCode  \\\n",
       "0           1   ATLANTIC            10   ABSECON CITY          50   \n",
       "1           1   ATLANTIC            10   ABSECON CITY          50   \n",
       "2           1   ATLANTIC            10   ABSECON CITY          50   \n",
       "3           1   ATLANTIC            10   ABSECON CITY          50   \n",
       "4           1   ATLANTIC            10   ABSECON CITY          60   \n",
       "5           1   ATLANTIC            10   ABSECON CITY          60   \n",
       "6           1   ATLANTIC           110  ATLANTIC CITY          10   \n",
       "7           1   ATLANTIC           110  ATLANTIC CITY          10   \n",
       "8           1   ATLANTIC           110  ATLANTIC CITY          10   \n",
       "9           1   ATLANTIC           110  ATLANTIC CITY          30   \n",
       "\n",
       "                  SchoolName Grade_Subject Subject MetExcExpPerc     Year  \n",
       "0             EMMA C ATTALES       Grade 5     LAL            47  2017-18  \n",
       "1             EMMA C ATTALES       Grade 6     LAL            59  2017-18  \n",
       "2             EMMA C ATTALES       Grade 7     LAL            64  2017-18  \n",
       "3             EMMA C ATTALES       Grade 8     LAL            57  2017-18  \n",
       "4             H ASHTON MARSH       Grade 3     LAL            44  2017-18  \n",
       "5             H ASHTON MARSH       Grade 4     LAL            54  2017-18  \n",
       "6  ATLANTIC CITY HIGH SCHOOL       Grade 9     LAL            27  2017-18  \n",
       "7  ATLANTIC CITY HIGH SCHOOL      Grade 10     LAL            25  2017-18  \n",
       "8  ATLANTIC CITY HIGH SCHOOL      Grade 11     LAL            19  2017-18  \n",
       "9    SOVEREIGN AVENUE SCHOOL       Grade 3     LAL            40  2017-18  "
      ]
     },
     "execution_count": 17,
     "metadata": {},
     "output_type": "execute_result"
    }
   ],
   "source": [
    "import os\n",
    "import pandas as pd\n",
    "import numpy as np\n",
    "\n",
    "df = pd.read_csv(r\"C:\\Users\\laksh\\Desktop\\ELAPerformanceTrends.csv\", encoding='cp1252')\n",
    "df.head(10)"
   ]
  },
  {
   "cell_type": "code",
   "execution_count": 19,
   "metadata": {},
   "outputs": [
    {
     "data": {
      "text/plain": [
       "CountyCode       0\n",
       "CountyName       0\n",
       "DistrictCode     0\n",
       "DistrictName     0\n",
       "SchoolCode       0\n",
       "SchoolName       0\n",
       "Grade_Subject    0\n",
       "Subject          0\n",
       "MetExcExpPerc    0\n",
       "Year             0\n",
       "dtype: int64"
      ]
     },
     "execution_count": 19,
     "metadata": {},
     "output_type": "execute_result"
    }
   ],
   "source": [
    "df.isnull().sum()"
   ]
  },
  {
   "cell_type": "code",
   "execution_count": 20,
   "metadata": {},
   "outputs": [
    {
     "data": {
      "text/plain": [
       "CountyCode        int64\n",
       "CountyName       object\n",
       "DistrictCode      int64\n",
       "DistrictName     object\n",
       "SchoolCode        int64\n",
       "SchoolName       object\n",
       "Grade_Subject    object\n",
       "Subject          object\n",
       "MetExcExpPerc    object\n",
       "Year             object\n",
       "dtype: object"
      ]
     },
     "execution_count": 20,
     "metadata": {},
     "output_type": "execute_result"
    }
   ],
   "source": [
    "df.dtypes"
   ]
  },
  {
   "cell_type": "code",
   "execution_count": 34,
   "metadata": {},
   "outputs": [
    {
     "data": {
      "text/plain": [
       "0            47\n",
       "1            59\n",
       "2            64\n",
       "3            57\n",
       "4            44\n",
       "5            54\n",
       "6            27\n",
       "7            25\n",
       "8            19\n",
       "9            40\n",
       "10           31\n",
       "11           45\n",
       "12           41\n",
       "13           58\n",
       "14           51\n",
       "15           44\n",
       "16           58\n",
       "17           52\n",
       "18           27\n",
       "19           67\n",
       "20           61\n",
       "21           16\n",
       "22           26\n",
       "23           38\n",
       "24           26\n",
       "25           36\n",
       "26           38\n",
       "27           13\n",
       "28      9999999\n",
       "29      9999999\n",
       "         ...   \n",
       "7551         42\n",
       "7552         90\n",
       "7553         76\n",
       "7554         48\n",
       "7555         61\n",
       "7556         54\n",
       "7557         61\n",
       "7558         54\n",
       "7559         55\n",
       "7560         47\n",
       "7561         67\n",
       "7562         79\n",
       "7563         46\n",
       "7564         54\n",
       "7565         74\n",
       "7566         22\n",
       "7567         16\n",
       "7568         32\n",
       "7569         27\n",
       "7570         29\n",
       "7571         26\n",
       "7572         35\n",
       "7573         39\n",
       "7574         31\n",
       "7575         54\n",
       "7576         56\n",
       "7577         49\n",
       "7578         69\n",
       "7579         56\n",
       "7580         53\n",
       "Name: MetExcExpPerc, Length: 7581, dtype: object"
      ]
     },
     "execution_count": 34,
     "metadata": {},
     "output_type": "execute_result"
    }
   ],
   "source": [
    "df['MetExcExpPerc'].replace(['*','N'],9999999)"
   ]
  },
  {
   "cell_type": "code",
   "execution_count": 41,
   "metadata": {},
   "outputs": [],
   "source": [
    "df = df.replace('N',9999999)"
   ]
  },
  {
   "cell_type": "code",
   "execution_count": 42,
   "metadata": {},
   "outputs": [
    {
     "data": {
      "text/html": [
       "<div>\n",
       "<style scoped>\n",
       "    .dataframe tbody tr th:only-of-type {\n",
       "        vertical-align: middle;\n",
       "    }\n",
       "\n",
       "    .dataframe tbody tr th {\n",
       "        vertical-align: top;\n",
       "    }\n",
       "\n",
       "    .dataframe thead th {\n",
       "        text-align: right;\n",
       "    }\n",
       "</style>\n",
       "<table border=\"1\" class=\"dataframe\">\n",
       "  <thead>\n",
       "    <tr style=\"text-align: right;\">\n",
       "      <th></th>\n",
       "      <th>CountyCode</th>\n",
       "      <th>CountyName</th>\n",
       "      <th>DistrictCode</th>\n",
       "      <th>DistrictName</th>\n",
       "      <th>SchoolCode</th>\n",
       "      <th>SchoolName</th>\n",
       "      <th>Grade_Subject</th>\n",
       "      <th>Subject</th>\n",
       "      <th>MetExcExpPerc</th>\n",
       "      <th>Year</th>\n",
       "    </tr>\n",
       "  </thead>\n",
       "  <tbody>\n",
       "  </tbody>\n",
       "</table>\n",
       "</div>"
      ],
      "text/plain": [
       "Empty DataFrame\n",
       "Columns: [CountyCode, CountyName, DistrictCode, DistrictName, SchoolCode, SchoolName, Grade_Subject, Subject, MetExcExpPerc, Year]\n",
       "Index: []"
      ]
     },
     "execution_count": 42,
     "metadata": {},
     "output_type": "execute_result"
    }
   ],
   "source": [
    "df.loc[df['MetExcExpPerc']=='N']"
   ]
  },
  {
   "cell_type": "code",
   "execution_count": 43,
   "metadata": {},
   "outputs": [],
   "source": [
    "df.MetExcExpPerc = df.MetExcExpPerc.astype(float)"
   ]
  },
  {
   "cell_type": "code",
   "execution_count": 44,
   "metadata": {},
   "outputs": [
    {
     "data": {
      "text/plain": [
       "CountyCode         int64\n",
       "CountyName        object\n",
       "DistrictCode       int64\n",
       "DistrictName      object\n",
       "SchoolCode         int64\n",
       "SchoolName        object\n",
       "Grade_Subject     object\n",
       "Subject           object\n",
       "MetExcExpPerc    float64\n",
       "Year              object\n",
       "dtype: object"
      ]
     },
     "execution_count": 44,
     "metadata": {},
     "output_type": "execute_result"
    }
   ],
   "source": [
    "df.dtypes"
   ]
  },
  {
   "cell_type": "code",
   "execution_count": 50,
   "metadata": {},
   "outputs": [],
   "source": [
    "df.to_csv('cleanedELAPerformanceTrends2017-18.csv')"
   ]
  },
  {
   "cell_type": "code",
   "execution_count": null,
   "metadata": {},
   "outputs": [],
   "source": []
  }
 ],
 "metadata": {
  "kernelspec": {
   "display_name": "Python 3",
   "language": "python",
   "name": "python3"
  },
  "language_info": {
   "codemirror_mode": {
    "name": "ipython",
    "version": 3
   },
   "file_extension": ".py",
   "mimetype": "text/x-python",
   "name": "python",
   "nbconvert_exporter": "python",
   "pygments_lexer": "ipython3",
   "version": "3.7.3"
  }
 },
 "nbformat": 4,
 "nbformat_minor": 2
}
